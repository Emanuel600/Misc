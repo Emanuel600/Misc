{
 "cells": [
  {
   "cell_type": "markdown",
   "metadata": {},
   "source": [
    "# Simulating Monty Hall\n",
    "## Defining project steps\n",
    "### Step 1\n",
    " - Generate random number between 1 and 3;\n",
    " - Pick a random number;\n",
    " - Count number of correct choices.\n",
    "### Step 2\n",
    " - Swich to another number;\n",
    " - Count number of correct choices.\n",
    "### Step 3\n",
    " - Calculate percentages."
   ]
  },
  {
   "cell_type": "code",
   "execution_count": 15,
   "metadata": {},
   "outputs": [
    {
     "name": "stdout",
     "output_type": "stream",
     "text": [
      "Percentage with switching: 66.988\n",
      "Percentage with no switching: 33.012\n"
     ]
    }
   ],
   "source": [
    "import matplotlib.pyplot as plt\n",
    "import pandas as pd\n",
    "import numpy as np\n",
    "\n",
    "# Run for x iterations\n",
    "x = 50000\n",
    "switches = 0\n",
    "win_no_switch = 0\n",
    "win_with_switch = 0\n",
    "for i in range(x):\n",
    "    # Pick initial number\n",
    "    correct = np.random.randint(1, 4)\n",
    "    # Select one option\n",
    "    choice = np.random.randint(1, 4)\n",
    "    # Get switched version\n",
    "    with_switch = choice\n",
    "    if choice == correct:\n",
    "        win_no_switch = win_no_switch + 1\n",
    "        # If you switch here, you lose\n",
    "        continue\n",
    "    # choice != correct\n",
    "    if correct == 3:                    # Opens either door 1 or door 2\n",
    "        if with_switch == 1:            # Opens door 2\n",
    "            with_switch = 3\n",
    "        else:                           # Opens door 1\n",
    "            with_switch = 3\n",
    "    elif correct == 2:                  # Opens either door 1 or door 3\n",
    "        if with_switch == 1:            # Opens door 3\n",
    "            with_switch = 2\n",
    "        else:                           # Opens door 1\n",
    "            with_switch = 2\n",
    "    else:                               # Opens either door 2 or door 3\n",
    "        if with_switch == 2:            # Open door 3\n",
    "            with_switch = 1\n",
    "        else:                           # Open door 2\n",
    "            with_switch = 1\n",
    "    # If you switched to the right door, you win\n",
    "    if correct == with_switch:\n",
    "        win_with_switch = win_with_switch + 1\n",
    "# Calculate results\n",
    "percentage_with_switch = 100 * win_with_switch/x\n",
    "percentage_without_switch = 100 * win_no_switch/x\n",
    "print(\"Percentage with switching: \" + str(percentage_with_switch))\n",
    "print(\"Percentage with no switching: \" + str(percentage_without_switch))"
   ]
  }
 ],
 "metadata": {
  "kernelspec": {
   "display_name": "Python 3 (ipykernel)",
   "language": "python",
   "name": "python3"
  },
  "language_info": {
   "codemirror_mode": {
    "name": "ipython",
    "version": 3
   },
   "file_extension": ".py",
   "mimetype": "text/x-python",
   "name": "python",
   "nbconvert_exporter": "python",
   "pygments_lexer": "ipython3",
   "version": "3.9.13"
  }
 },
 "nbformat": 4,
 "nbformat_minor": 2
}
