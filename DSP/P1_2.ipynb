{
 "cells": [
  {
   "cell_type": "code",
   "execution_count": 1,
   "metadata": {},
   "outputs": [
    {
     "data": {
      "text/plain": [
       "array([0. , 1. , 2. , 3. , 3.5, 4. , 5.5, 7. , 5. , 3. , 6. , 9. , 5. ,\n",
       "       1. , 0.5, 0. , 2. , 4. ])"
      ]
     },
     "execution_count": 1,
     "metadata": {},
     "output_type": "execute_result"
    }
   ],
   "source": [
    "import numpy as np\n",
    "import scipy.signal as sp\n",
    "\n",
    "import DSP\n",
    "\n",
    "DSP.doublesp([1, 3, 4, 7, 3, 9, 1, 0, 4])"
   ]
  },
  {
   "cell_type": "code",
   "execution_count": 2,
   "metadata": {},
   "outputs": [
    {
     "data": {
      "text/plain": [
       "array([], dtype=float64)"
      ]
     },
     "execution_count": 2,
     "metadata": {},
     "output_type": "execute_result"
    }
   ],
   "source": [
    "x  = [1, 3, 4, 7, 3, 9, 1, 0, 4]\n",
    "xs = np.array([])\n",
    "np.append(xs, x[0])\n",
    "np.append(xs, (x[0]+x[1])/2)\n",
    "\n",
    "np.append(xs, x[1])\n",
    "np.append(xs, (x[1]+x[2])/2)\n",
    "\n",
    "np.append(xs, x[2])\n",
    "np.append(xs, (x[2]+x[3])/2)\n",
    "\n",
    "xs"
   ]
  }
 ],
 "metadata": {
  "kernelspec": {
   "display_name": "base",
   "language": "python",
   "name": "python3"
  },
  "language_info": {
   "codemirror_mode": {
    "name": "ipython",
    "version": 3
   },
   "file_extension": ".py",
   "mimetype": "text/x-python",
   "name": "python",
   "nbconvert_exporter": "python",
   "pygments_lexer": "ipython3",
   "version": "3.11.5"
  }
 },
 "nbformat": 4,
 "nbformat_minor": 2
}
