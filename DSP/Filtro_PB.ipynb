{
 "cells": [
  {
   "cell_type": "code",
   "execution_count": 21,
   "metadata": {},
   "outputs": [],
   "source": [
    "import matplotlib.pyplot as plt\n",
    "import scipy.io.wavfile as wavf\n",
    "import scipy.signal as sp\n",
    "\n",
    "import pandas as pd\n",
    "import numpy as np\n",
    "\n",
    "import DSP\n",
    "\n",
    "df = pd.read_csv(\"ab_PB.csv\")\n",
    "b  = np.array(df['b'])\n",
    "a  = np.array(df['a'])"
   ]
  },
  {
   "cell_type": "code",
   "execution_count": 23,
   "metadata": {},
   "outputs": [
    {
     "name": "stderr",
     "output_type": "stream",
     "text": [
      "C:\\Users\\emanuel\\AppData\\Local\\Temp\\ipykernel_6668\\4208975755.py:1: WavFileWarning: Chunk (non-data) not understood, skipping it.\n",
      "  [fs, raw_signal]    = wavf.read(\"Sinais/fala-tom-alta-freq.wav\")\n"
     ]
    }
   ],
   "source": [
    "[fs, raw_signal]    = wavf.read(\"Sinais/fala-tom-alta-freq.wav\")\n",
    "converted_signal    = raw_signal/float(1<<16)\n",
    "filtered_signal     = sp.lfilter(b, a, converted_signal)\n",
    "filtered_signal     = DSP.normalize(filtered_signal)\n",
    "\n",
    "wavf.write(\"Sinais/fala_sem_tom_alta_freq.wav\", fs, filtered_signal)"
   ]
  }
 ],
 "metadata": {
  "kernelspec": {
   "display_name": "base",
   "language": "python",
   "name": "python3"
  },
  "language_info": {
   "codemirror_mode": {
    "name": "ipython",
    "version": 3
   },
   "file_extension": ".py",
   "mimetype": "text/x-python",
   "name": "python",
   "nbconvert_exporter": "python",
   "pygments_lexer": "ipython3",
   "version": "3.11.5"
  }
 },
 "nbformat": 4,
 "nbformat_minor": 2
}
